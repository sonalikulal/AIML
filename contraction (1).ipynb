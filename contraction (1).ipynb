{
 "cells": [
  {
   "cell_type": "code",
   "execution_count": 1,
   "id": "e7777b3f",
   "metadata": {},
   "outputs": [
    {
     "name": "stdout",
     "output_type": "stream",
     "text": [
      "Defaulting to user installation because normal site-packages is not writeable\n",
      "Collecting contractions\n",
      "  Downloading contractions-0.1.73-py2.py3-none-any.whl (8.7 kB)\n",
      "Collecting textsearch>=0.0.21\n",
      "  Downloading textsearch-0.0.24-py2.py3-none-any.whl (7.6 kB)\n",
      "Collecting anyascii\n",
      "  Downloading anyascii-0.3.2-py3-none-any.whl (289 kB)\n",
      "     -------------------------------------- 289.9/289.9 kB 1.5 MB/s eta 0:00:00\n",
      "Collecting pyahocorasick\n",
      "  Downloading pyahocorasick-2.0.0-cp39-cp39-win_amd64.whl (39 kB)\n",
      "Installing collected packages: pyahocorasick, anyascii, textsearch, contractions\n",
      "Successfully installed anyascii-0.3.2 contractions-0.1.73 pyahocorasick-2.0.0 textsearch-0.0.24\n"
     ]
    }
   ],
   "source": [
    "!pip install contractions"
   ]
  },
  {
   "cell_type": "code",
   "execution_count": 7,
   "id": "361ffef0",
   "metadata": {},
   "outputs": [
    {
     "name": "stdout",
     "output_type": "stream",
     "text": [
      "Original text: i'm sonali i'd like to dance\n",
      "Expanded_text: i am sonali i would like to dance\n"
     ]
    }
   ],
   "source": [
    "# import library\n",
    "import contractions\n",
    "# contracted text\n",
    "text = '''i'm sonali i'd like to dance'''\n",
    "\n",
    "# creating an empty list\n",
    "expanded_words = [] \n",
    "for word in text.split():\n",
    "# using contractions.fix to expand the shortened words\n",
    "  expanded_words.append(contractions.fix(word)) \n",
    "expanded_text = ' '.join(expanded_words)\n",
    "print('Original text: ' + text)\n",
    "print('Expanded_text: ' + expanded_text)\n"
   ]
  },
  {
   "cell_type": "code",
   "execution_count": 3,
   "id": "772d4d61",
   "metadata": {},
   "outputs": [
    {
     "name": "stdout",
     "output_type": "stream",
     "text": [
      "females hit ah nigga with tht bro ,https://t.co/mZ8BAYlnlf I’m tryna make u my lasweety hello, fuck ah broDear Democrat American people aren’t stupid, they know what spying is and no amount of gaslighting will change th 70199049,RT @SheLoveTimothy: He ain’t on drugs he just bored. I be doing the same shit when I’m bored  ‘19 I’m coming for you ! No boring shit ! Beach days, road trips, kickbacks and HOT DAYS ! I’m ready I’m ready I’m…27455393792,@HermesCxbin turn that shit off,HOF1130184942066065408,RT spaceboykenny i know fuck bout cel shading so have some horny instead Ts the only other ones but that’s if you feeeling fly fly like bitch don’t touch me.,HOF1123675222836744192,I fucking love life !!!,HOF1130306320991707136,@Nig_BMT ‘In the newspaper ‘ I weak. Bro this ending has pissed me off,NOT1123800523499552768,\n"
     ]
    }
   ],
   "source": [
    "import re\n",
    "\n",
    "def remove_emojis(text):\n",
    "    # Define a regular expression pattern to match emojis\n",
    "    emoji_pattern = re.compile(\"[\"\n",
    "                           u\"\\U0001F600-\\U0001F64F\"  # Emoticons\n",
    "                           u\"\\U0001F300-\\U0001F5FF\"  # Symbols & Pictographs\n",
    "                           u\"\\U0001F680-\\U0001F6FF\"  # Transport & Map Symbols\n",
    "                           u\"\\U0001F700-\\U0001F77F\"  # Alchemical Symbols\n",
    "                           u\"\\U0001F780-\\U0001F7FF\"  # Geometric Shapes\n",
    "                           u\"\\U0001F800-\\U0001F8FF\"  # Supplemental Arrows-B\n",
    "                           u\"\\U0001F900-\\U0001F9FF\"  # Supplemental Symbols and Pictographs\n",
    "                           u\"\\U0001FA00-\\U0001FA6F\"  # Chess Symbols\n",
    "                           u\"\\U0001FA70-\\U0001FAFF\"  # Symbols and Pictographs Extended-A\n",
    "                           u\"\\U0001FAA0-\\U0001FAAF\"  # Symbols for Legacy Computing\"\n",
    "                           u\"\\U0001F004\"              # Mahjong Tile Red Dragon\n",
    "                           u\"\\U0001F0CF\"              # Playing Card Black Joker\n",
    "                           u\"\\U0001F170-\\U0001F251\"  # Enclosed Characters\n",
    "                           u\"\\U0001F004-\\U0001F0CF\"  # Miscellaneous Symbols and Pictographs\"\n",
    "                           u\"\\U0001F680-\\U0001F6FF\"\n",
    "                           u\"\\U0001F300-\\U0001F5FF\"\n",
    "                           u\"\\U0001F004-\\U0001F0CF\"\n",
    "                           \"]+\", flags=re.UNICODE)\n",
    "\n",
    "    # Remove emojis from the text\n",
    "    text_without_emojis = emoji_pattern.sub(r'', text)\n",
    "    return text_without_emojis\n",
    "\n",
    "# Example usage\n",
    "text_with_emojis = \"females hit ah nigga with tht bro 😂😂,https://t.co/mZ8BAYlnlf I’m tryna make u my lasweety hello, fuck ah broDear Democrat American people aren’t stupid, they know what spying is and no amount of gaslighting will change th 70199049,RT @SheLoveTimothy: He ain’t on drugs he just bored. I be doing the same shit when I’m bored 😂 ‘19 I’m coming for you ! No boring shit ! Beach days, road trips, kickbacks and HOT DAYS ! I’m ready I’m ready I’m…27455393792,@HermesCxbin turn that shit off,HOF1130184942066065408,RT spaceboykenny i know fuck bout cel shading so have some horny instead Ts the only other ones but that’s if you feeeling fly fly like bitch don’t touch me.,HOF1123675222836744192,I fucking love life !!!,HOF1130306320991707136,@Nig_BMT ‘In the newspaper ‘ I weak😂😂😂. Bro this ending has pissed me off😭,NOT1123800523499552768,😍🐍\"\n",
    "text_without_emojis = remove_emojis(text_with_emojis)\n",
    "print(text_without_emojis)  \n"
   ]
  },
  {
   "cell_type": "code",
   "execution_count": 4,
   "id": "f7677076",
   "metadata": {},
   "outputs": [
    {
     "name": "stdout",
     "output_type": "stream",
     "text": [
      "This dog 😂, I weak😂😂😂ending has pissed me off😭FUCKING BEAST HONESTLY👀🐐🐐🐐Get surgical with that shit 💉\n"
     ]
    },
    {
     "data": {
      "text/plain": [
       "'This dog , I weakending has pissed me offFUCKING BEAST HONESTLYGet surgical with that shit '"
      ]
     },
     "execution_count": 4,
     "metadata": {},
     "output_type": "execute_result"
    }
   ],
   "source": [
    "import re\n",
    "\n",
    "def remove_emojis(text):\n",
    "  print(text) # with emoji\n",
    "  emoji_pattern = re.compile(\"[\"\n",
    "          u\"\\U0001F600-\\U0001F64F\"  # emoticons\n",
    "          u\"\\U0001F300-\\U0001F5FF\"  # symbols & pictographs\n",
    "          u\"\\U0001F680-\\U0001F6FF\"  # transport & map symbols\n",
    "          u\"\\U0001F1E0-\\U0001F1FF\"  # flags (iOS)\n",
    "                            \"]+\", flags=re.UNICODE)\n",
    "  return emoji_pattern.sub(r'', text)\n",
    "text = u'This dog \\U0001f602, I weak😂😂😂ending has pissed me off😭FUCKING BEAST HONESTLY👀🐐🐐🐐Get surgical with that shit 💉'\n",
    "output_text = remove_emojis(text)\n",
    "output_text"
   ]
  },
  {
   "cell_type": "code",
   "execution_count": 5,
   "id": "c1ad5052",
   "metadata": {},
   "outputs": [
    {
     "name": "stdout",
     "output_type": "stream",
     "text": [
      "This dog 😂, I weak😂😂😂ending has pissed me off😭FUCKING BEAST HONESTLY👀🐐🐐🐐Get surgical with that shit 💉subbu always smiles like hell😩🐷🐷!but his acting skills are superb😎🔥\n"
     ]
    },
    {
     "data": {
      "text/plain": [
       "'This dog , I weakending has pissed me offFUCKING BEAST HONESTLYGet surgical with that shit subbu always smiles like hell!but his acting skills are superb'"
      ]
     },
     "execution_count": 5,
     "metadata": {},
     "output_type": "execute_result"
    }
   ],
   "source": [
    "import re\n",
    "\n",
    "def remove_emojis(text):\n",
    "  print(text) # with emoji\n",
    "  emoji_pattern = re.compile(\"[\"\n",
    "          u\"\\U0001F600-\\U0001F64F\"  # emoticons\n",
    "          u\"\\U0001F300-\\U0001F5FF\"  # symbols & pictographs\n",
    "          u\"\\U0001F680-\\U0001F6FF\"  # transport & map symbols\n",
    "          u\"\\U0001F1E0-\\U0001F1FF\"  # flags (iOS)\n",
    "                            \"]+\", flags=re.UNICODE)\n",
    "  return emoji_pattern.sub(r'', text)\n",
    "text = u'This dog \\U0001f602, I weak😂😂😂ending has pissed me off😭FUCKING BEAST HONESTLY👀🐐🐐🐐Get surgical with that shit 💉subbu always smiles like hell😩🐷🐷!but his acting skills are superb😎🔥'\n",
    "output_text = remove_emojis(text)\n",
    "output_text"
   ]
  },
  {
   "cell_type": "code",
   "execution_count": 6,
   "id": "781581e7",
   "metadata": {},
   "outputs": [
    {
     "name": "stdout",
     "output_type": "stream",
     "text": [
      "Y WHEN YOUR SHIT IS ON PUBLIC RECORD 😂😂😂 subbu smiles like hell😩🐷🐷!but his acting skills are superb😎🔥\n"
     ]
    },
    {
     "data": {
      "text/plain": [
       "'Y WHEN YOUR SHIT IS ON PUBLIC RECORD  subbu smiles like hell!but his acting skills are superb'"
      ]
     },
     "execution_count": 6,
     "metadata": {},
     "output_type": "execute_result"
    }
   ],
   "source": [
    "import re\n",
    "\n",
    "def remove_emojis(text):\n",
    "    print(text) # with emoji\n",
    "    emoji_pattern = re.compile(\"[\"\n",
    "          u\"\\U0001F600-\\U0001F64F\"  # emoticons\n",
    "          u\"\\U0001F300-\\U0001F5FF\"  # symbols & pictographs\n",
    "          u\"\\U0001F680-\\U0001F6FF\"  # transport & map symbols\n",
    "          u\"\\U0001F1E0-\\U0001F1FF\"  # flags (iOS)\n",
    "                            \"]+\", flags=re.UNICODE)\n",
    "    return emoji_pattern.sub(r'', text)\n",
    "text = u'Y WHEN YOUR SHIT IS ON PUBLIC RECORD 😂😂😂 subbu smiles like hell😩🐷🐷!but his acting skills are superb😎🔥'\n",
    "output_text = remove_emojis(text)\n",
    "output_text"
   ]
  },
  {
   "cell_type": "code",
   "execution_count": null,
   "id": "078cc90d",
   "metadata": {},
   "outputs": [],
   "source": []
  }
 ],
 "metadata": {
  "kernelspec": {
   "display_name": "Python 3 (ipykernel)",
   "language": "python",
   "name": "python3"
  },
  "language_info": {
   "codemirror_mode": {
    "name": "ipython",
    "version": 3
   },
   "file_extension": ".py",
   "mimetype": "text/x-python",
   "name": "python",
   "nbconvert_exporter": "python",
   "pygments_lexer": "ipython3",
   "version": "3.9.13"
  }
 },
 "nbformat": 4,
 "nbformat_minor": 5
}
