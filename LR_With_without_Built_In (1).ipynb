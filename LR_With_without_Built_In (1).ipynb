{
 "cells": [
  {
   "cell_type": "markdown",
   "metadata": {
    "id": "3CfqQOBYyHrh"
   },
   "source": [
    "**Logistic regression** - is a powerful and widely used algorithm in supervised learning within machine learning. It's primarily used for classification tasks, particularly those involving binary outcomes: yes/no, true/false, or 0/1.\n",
    "\n",
    "**What it does:**\n",
    "It models the relationship between one or more independent variables (features) and a single binary dependent variable.\n",
    "It predicts the probability of an event occurring, instead of simply providing a yes/no answer.\n",
    "This probability output allows for more nuanced interpretations and decision-making.\n",
    "\n",
    "**How it works:**\n",
    "Under the hood, it utilizes a sigmoid function that transforms a linear equation into a smooth S-shaped curve.\n",
    "This curve maps any real-valued input from the feature space to a probability between 0 and 1.\n",
    "By training the model on labeled data, the coefficients of the linear equation are adjusted to best estimate the true probabilities underlying the relationship between features and the outcome.\n",
    "\n",
    "**When to use it:**\n",
    "When you have a binary classification problem.\n",
    "When you want to understand the influence of each feature on the outcome through the learned coefficients.\n",
    "When interpretability and explainability of the model are important.\n",
    "\n",
    "**Advantages:**\n",
    "Simple to implement and understand.\n",
    "Efficient and computationally inexpensive.\n",
    "Provides probabilistic outputs for informed decision-making.\n",
    "Offers interpretability through feature coefficients.\n",
    "\n",
    "**Disadvantages:**\n",
    "Limited to binary classification tasks.\n",
    "Assumes a linear relationship between features and the outcome.\n",
    "May not perform well with complex data or highly non-linear relationships.\n",
    "\n",
    "Examples of applications: **bold text**\n",
    "Predicting spam emails.\n",
    "Identifying fraudulent transactions.\n",
    "Classifying medical images as cancerous or benign.\n",
    "Assessing creditworthiness of loan applicants.\n",
    "\n",
    "**Beyond the basics:**\n",
    "Logistic regression can be extended to handle multi-class classification with modifications like one-vs-rest approach.\n",
    "Regularization techniques can be used to prevent overfitting and improve model generalization.\n",
    "Logistic regression can be combined with other algorithms in ensemble methods for better performance.\n",
    "\n",
    "Other Reference Links: https://developer.ibm.com/articles/implementing-logistic-regression-from-scratch-in-python/"
   ]
  },
  {
   "cell_type": "markdown",
   "metadata": {
    "id": "QoMG4r1zxDqB"
   },
   "source": [
    "**With_Built-In Function**"
   ]
  },
  {
   "cell_type": "code",
   "execution_count": 1,
   "metadata": {
    "id": "mE2IVtzRBE5f"
   },
   "outputs": [],
   "source": [
    "import numpy as np\n",
    "from sklearn.model_selection import train_test_split\n",
    "from sklearn import datasets\n",
    "import matplotlib.pyplot as plt\n",
    "import pandas as pd\n",
    "from sklearn.feature_extraction.text import CountVectorizer, TfidfVectorizer\n",
    "from scipy.sparse import csr_array\n",
    "from sklearn import preprocessing\n",
    "from sklearn.metrics import accuracy_score"
   ]
  },
  {
   "cell_type": "code",
   "execution_count": 2,
   "metadata": {
    "id": "6lAHauwKCAgp"
   },
   "outputs": [
    {
     "data": {
      "text/html": [
       "<div>\n",
       "<style scoped>\n",
       "    .dataframe tbody tr th:only-of-type {\n",
       "        vertical-align: middle;\n",
       "    }\n",
       "\n",
       "    .dataframe tbody tr th {\n",
       "        vertical-align: top;\n",
       "    }\n",
       "\n",
       "    .dataframe thead th {\n",
       "        text-align: right;\n",
       "    }\n",
       "</style>\n",
       "<table border=\"1\" class=\"dataframe\">\n",
       "  <thead>\n",
       "    <tr style=\"text-align: right;\">\n",
       "      <th></th>\n",
       "      <th>message</th>\n",
       "      <th>sentiment</th>\n",
       "    </tr>\n",
       "  </thead>\n",
       "  <tbody>\n",
       "    <tr>\n",
       "      <th>0</th>\n",
       "      <td>I really enjoyed the movie</td>\n",
       "      <td>positive</td>\n",
       "    </tr>\n",
       "    <tr>\n",
       "      <th>1</th>\n",
       "      <td>The food was terrible</td>\n",
       "      <td>negative</td>\n",
       "    </tr>\n",
       "    <tr>\n",
       "      <th>2</th>\n",
       "      <td>I'm not sure how I feel about this</td>\n",
       "      <td>neutral</td>\n",
       "    </tr>\n",
       "    <tr>\n",
       "      <th>3</th>\n",
       "      <td>The service was excellent</td>\n",
       "      <td>positive</td>\n",
       "    </tr>\n",
       "    <tr>\n",
       "      <th>4</th>\n",
       "      <td>I had a bad experience</td>\n",
       "      <td>negative</td>\n",
       "    </tr>\n",
       "    <tr>\n",
       "      <th>...</th>\n",
       "      <td>...</td>\n",
       "      <td>...</td>\n",
       "    </tr>\n",
       "    <tr>\n",
       "      <th>579</th>\n",
       "      <td>I have to cancel my vacation plans because I c...</td>\n",
       "      <td>negative</td>\n",
       "    </tr>\n",
       "    <tr>\n",
       "      <th>580</th>\n",
       "      <td>My computer crashed and I lost all my importan...</td>\n",
       "      <td>negative</td>\n",
       "    </tr>\n",
       "    <tr>\n",
       "      <th>581</th>\n",
       "      <td>I got into a car accident and my car is totale...</td>\n",
       "      <td>negative</td>\n",
       "    </tr>\n",
       "    <tr>\n",
       "      <th>582</th>\n",
       "      <td>I have a cold and can't stop coughing. it's re...</td>\n",
       "      <td>negative</td>\n",
       "    </tr>\n",
       "    <tr>\n",
       "      <th>583</th>\n",
       "      <td>I just found out my ex is dating someone new. ...</td>\n",
       "      <td>negative</td>\n",
       "    </tr>\n",
       "  </tbody>\n",
       "</table>\n",
       "<p>584 rows × 2 columns</p>\n",
       "</div>"
      ],
      "text/plain": [
       "                                               message sentiment\n",
       "0                           I really enjoyed the movie  positive\n",
       "1                                The food was terrible  negative\n",
       "2                   I'm not sure how I feel about this   neutral\n",
       "3                            The service was excellent  positive\n",
       "4                               I had a bad experience  negative\n",
       "..                                                 ...       ...\n",
       "579  I have to cancel my vacation plans because I c...  negative\n",
       "580  My computer crashed and I lost all my importan...  negative\n",
       "581  I got into a car accident and my car is totale...  negative\n",
       "582  I have a cold and can't stop coughing. it's re...  negative\n",
       "583  I just found out my ex is dating someone new. ...  negative\n",
       "\n",
       "[584 rows x 2 columns]"
      ]
     },
     "execution_count": 2,
     "metadata": {},
     "output_type": "execute_result"
    }
   ],
   "source": [
    "data=pd.read_csv('chat_dataset (1).csv')\n",
    "data"
   ]
  },
  {
   "cell_type": "code",
   "execution_count": 3,
   "metadata": {
    "colab": {
     "base_uri": "https://localhost:8080/"
    },
    "id": "3MUlZv9bL7aZ",
    "outputId": "82d9b2d7-5f32-4fc7-f09d-cd23d725cff9"
   },
   "outputs": [
    {
     "data": {
      "text/plain": [
       "array([2, 0, 1])"
      ]
     },
     "execution_count": 3,
     "metadata": {},
     "output_type": "execute_result"
    }
   ],
   "source": [
    "label_encoder = preprocessing.LabelEncoder()\n",
    "data['sentiments']= label_encoder.fit_transform(data['sentiment'])\n",
    "data['sentiments'].unique()"
   ]
  },
  {
   "cell_type": "code",
   "execution_count": 4,
   "metadata": {
    "id": "rI3AMLpVENXB"
   },
   "outputs": [],
   "source": [
    "x = data['message']\n",
    "y= data['sentiments']\n",
    "x_train, x_test, y_train, y_test= train_test_split(x, y, test_size=0.2, random_state=1234)"
   ]
  },
  {
   "cell_type": "code",
   "execution_count": 5,
   "metadata": {
    "colab": {
     "base_uri": "https://localhost:8080/"
    },
    "id": "Q8AkTyU2Ig0c",
    "outputId": "7e654275-1f4e-4a93-8539-4151e05f9241"
   },
   "outputs": [
    {
     "data": {
      "text/plain": [
       "330                      I'm not sure what to do 😕\n",
       "223           I have no strong feelings about this\n",
       "167    The service at this restaurant was terrible\n",
       "27        This is an excellent company to work for\n",
       "92                I regret not buying this product\n",
       "                          ...                     \n",
       "279                      This software is ordinary\n",
       "372            I'm not sure if I want to do that 🤔\n",
       "204     The service at this restaurant was average\n",
       "53                      I'm very pleased with this\n",
       "294            The service at this spa was amazing\n",
       "Name: message, Length: 467, dtype: object"
      ]
     },
     "execution_count": 5,
     "metadata": {},
     "output_type": "execute_result"
    }
   ],
   "source": [
    "x_train"
   ]
  },
  {
   "cell_type": "code",
   "execution_count": 6,
   "metadata": {
    "id": "y2ZimBUnGpVy"
   },
   "outputs": [],
   "source": [
    "vectorizer = TfidfVectorizer()\n",
    "train_feature = vectorizer.fit_transform(x_train)\n",
    "test_feature  = vectorizer.transform(x_test)"
   ]
  },
  {
   "cell_type": "code",
   "execution_count": 7,
   "metadata": {
    "colab": {
     "base_uri": "https://localhost:8080/"
    },
    "id": "GOC6b6FfHLbZ",
    "outputId": "a0772bcc-bcd0-412f-e569-77d0a5663dd9"
   },
   "outputs": [
    {
     "name": "stdout",
     "output_type": "stream",
     "text": [
      "  (0, 143)\t0.5474719041814794\n",
      "  (0, 545)\t0.33586078807820896\n",
      "  (0, 605)\t0.5117286141902689\n",
      "  (0, 518)\t0.431848017686985\n",
      "  (0, 366)\t0.3729787664225913\n",
      "  (1, 538)\t0.22357981378065514\n",
      "  (1, 10)\t0.38655714392246876\n",
      "  (1, 189)\t0.5215259219977413\n",
      "  (1, 506)\t0.48205008502664615\n",
      "  (1, 362)\t0.4145656959890099\n",
      "  (1, 243)\t0.3526462154506527\n",
      "  (2, 526)\t0.5031902113716717\n",
      "  (2, 591)\t0.2622246911746268\n",
      "  (2, 458)\t0.5031902113716717\n",
      "  (2, 38)\t0.3747044233262801\n",
      "  (2, 476)\t0.4297706734337786\n",
      "  (2, 531)\t0.20140478131953282\n",
      "  (2, 538)\t0.243243316774508\n",
      "  (3, 207)\t0.3068554180095769\n",
      "  (3, 614)\t0.38245725821977333\n",
      "  (3, 96)\t0.4235361536436673\n",
      "  (3, 175)\t0.44303917455366154\n",
      "  (3, 26)\t0.46818294161039864\n",
      "  (3, 281)\t0.2440032122073781\n",
      "  (3, 538)\t0.20071150921810868\n",
      "  :\t:\n",
      "  (463, 590)\t0.5108139848865645\n",
      "  (463, 266)\t0.37747823742060993\n",
      "  (463, 530)\t0.3997571422267288\n",
      "  (463, 143)\t0.4211360441203591\n",
      "  (463, 545)\t0.2583567897933932\n",
      "  (463, 518)\t0.3321937882854887\n",
      "  (463, 366)\t0.2869093391503674\n",
      "  (464, 40)\t0.4339389424597051\n",
      "  (464, 591)\t0.27338111463978837\n",
      "  (464, 458)\t0.5245985808750914\n",
      "  (464, 38)\t0.39064632872874755\n",
      "  (464, 476)\t0.44805538798242456\n",
      "  (464, 531)\t0.2099736045613252\n",
      "  (464, 538)\t0.25359217231076886\n",
      "  (465, 417)\t0.7143652138637141\n",
      "  (465, 584)\t0.5257126722266464\n",
      "  (465, 610)\t0.3856502317519392\n",
      "  (465, 538)\t0.25413072665745084\n",
      "  (466, 491)\t0.5830601002775417\n",
      "  (466, 23)\t0.5014010368468883\n",
      "  (466, 591)\t0.23859189225623595\n",
      "  (466, 38)\t0.3409344749257901\n",
      "  (466, 476)\t0.3910379215301139\n",
      "  (466, 531)\t0.18325333007058361\n",
      "  (466, 538)\t0.22132119964730654\n"
     ]
    }
   ],
   "source": [
    "print(train_feature)"
   ]
  },
  {
   "cell_type": "code",
   "execution_count": 8,
   "metadata": {
    "id": "CADLjMIRvNYJ"
   },
   "outputs": [],
   "source": [
    "terms_train1= train_feature.toarray()"
   ]
  },
  {
   "cell_type": "code",
   "execution_count": 9,
   "metadata": {
    "id": "Ktyvyg0PwIm5"
   },
   "outputs": [],
   "source": [
    "term_test1=test_feature.toarray()"
   ]
  },
  {
   "cell_type": "code",
   "execution_count": 15,
   "metadata": {
    "id": "QHDF-pi5B0Ea"
   },
   "outputs": [],
   "source": [
    "class LogisticRegression:\n",
    "\n",
    "    def __init__(self, learning_rate=0.001, n_iters=1000):\n",
    "        self.lr = learning_rate\n",
    "        self.n_iters = n_iters\n",
    "        self.weights = None\n",
    "        self.bias = None\n",
    "\n",
    "    def fit(self, X, y):\n",
    "        n_samples, n_features = X.shape\n",
    "\n",
    "        # init parameters\n",
    "        self.weights = np.zeros(n_features)\n",
    "        self.bias = 0\n",
    "\n",
    "        # gradient descent\n",
    "        for _ in range(self.n_iters):\n",
    "            # approximate output variable (y) with linear combination of weights and x, plus bias\n",
    "            linear_model = np.dot(X, self.weights) + self.bias\n",
    "            # apply sigmoid function\n",
    "            y_predicted = self._sigmoid(linear_model)\n",
    "\n",
    "            # compute gradients\n",
    "            dw = (1 / n_samples) * np.dot(X.T, (y_predicted - y)) #derivative w.r.t weights\n",
    "            db = (1 / n_samples) * np.sum(y_predicted - y)  #derivative w.r.t bias\n",
    "            # update parameters\n",
    "            self.weights -= self.lr * dw\n",
    "            self.bias -= self.lr * db\n",
    "\n",
    "    def predict(self, X):\n",
    "        linear_model = np.dot(X, self.weights) + self.bias\n",
    "        y_predicted = self._sigmoid(linear_model)\n",
    "        y_predicted_cls = [1 if i > 0.5 else 0 for i in y_predicted]\n",
    "        return np.array(y_predicted_cls)\n",
    "\n",
    "    def _sigmoid(self, x):\n",
    "        return 1 / (1 + np.exp(-x))\n",
    "\n",
    "def accuracy(y_true, y_pred):\n",
    "    accuracy = np.sum(y_true == y_pred) / len(y_true)\n",
    "    return accuracy"
   ]
  },
  {
   "cell_type": "code",
   "execution_count": 16,
   "metadata": {
    "id": "FtjxNR4GB2eJ"
   },
   "outputs": [],
   "source": [
    "itr=[]\n",
    "acc=[]"
   ]
  },
  {
   "cell_type": "code",
   "execution_count": 18,
   "metadata": {
    "id": "58rXKu7uB4Gp"
   },
   "outputs": [],
   "source": [
    "from sklearn.linear_model import LogisticRegression\n",
    "regressor = LogisticRegression(solver='newton-cg')#learning_rate=0.0001, n_iters=383"
   ]
  },
  {
   "cell_type": "code",
   "execution_count": 19,
   "metadata": {},
   "outputs": [],
   "source": [
    "regressor = LogisticRegression(solver='lbfgs',max_iter=150)"
   ]
  },
  {
   "cell_type": "code",
   "execution_count": 20,
   "metadata": {
    "colab": {
     "base_uri": "https://localhost:8080/",
     "height": 75
    },
    "id": "RvvtrWrbGOI6",
    "outputId": "82468973-dabb-4cfb-8ab4-2518dc6fe642"
   },
   "outputs": [
    {
     "data": {
      "text/plain": [
       "LogisticRegression(max_iter=150)"
      ]
     },
     "execution_count": 20,
     "metadata": {},
     "output_type": "execute_result"
    }
   ],
   "source": [
    "regressor.fit(terms_train1, y_train)"
   ]
  },
  {
   "cell_type": "code",
   "execution_count": 21,
   "metadata": {
    "id": "bUfYEwCbGPrC"
   },
   "outputs": [],
   "source": [
    "predictions = regressor.predict(term_test1)\n",
    "itr.append(500)"
   ]
  },
  {
   "cell_type": "code",
   "execution_count": 22,
   "metadata": {
    "colab": {
     "base_uri": "https://localhost:8080/"
    },
    "id": "kLdAFrOsB5Sx",
    "outputId": "e95fb34b-5b58-40e1-f71d-e0bb1151119a"
   },
   "outputs": [
    {
     "name": "stdout",
     "output_type": "stream",
     "text": [
      "LR classification accuracy: 0.8290598290598291\n"
     ]
    }
   ],
   "source": [
    "print(\"LR classification accuracy:\", accuracy(y_test, predictions))\n",
    "acc.append(accuracy(y_test, predictions))"
   ]
  },
  {
   "cell_type": "markdown",
   "metadata": {
    "id": "2PfM6WOhw_gK"
   },
   "source": [
    "**Without_Built-In Function**"
   ]
  },
  {
   "cell_type": "code",
   "execution_count": 23,
   "metadata": {
    "colab": {
     "base_uri": "https://localhost:8080/",
     "height": 75
    },
    "id": "rZSGKL2exIu6",
    "outputId": "c054741a-5aed-4ddb-d37b-e1752d6ae65e"
   },
   "outputs": [
    {
     "data": {
      "text/plain": [
       "LogisticRegression()"
      ]
     },
     "execution_count": 23,
     "metadata": {},
     "output_type": "execute_result"
    }
   ],
   "source": [
    "from sklearn.linear_model import LogisticRegression\n",
    "clf = LogisticRegression()#tol=0.0001, max_iter=383,class_weight=None,random_state=None\n",
    "clf.fit(train_feature, y_train)"
   ]
  },
  {
   "cell_type": "code",
   "execution_count": 24,
   "metadata": {
    "id": "QgE2r3XTxhCw"
   },
   "outputs": [],
   "source": [
    "y_pred = clf.predict(test_feature)"
   ]
  },
  {
   "cell_type": "code",
   "execution_count": 25,
   "metadata": {
    "colab": {
     "base_uri": "https://localhost:8080/"
    },
    "id": "Hd3zEwWRxkhQ",
    "outputId": "93f28b72-44a6-48ce-9673-66aa848b8286"
   },
   "outputs": [
    {
     "name": "stdout",
     "output_type": "stream",
     "text": [
      "Accuracy: 82.91%\n"
     ]
    }
   ],
   "source": [
    "accuracy = accuracy_score(y_test, y_pred)\n",
    "print(\"Accuracy: {:.2f}%\".format(accuracy * 100))"
   ]
  },
  {
   "cell_type": "code",
   "execution_count": null,
   "metadata": {},
   "outputs": [],
   "source": []
  }
 ],
 "metadata": {
  "colab": {
   "provenance": []
  },
  "kernelspec": {
   "display_name": "Python 3 (ipykernel)",
   "language": "python",
   "name": "python3"
  },
  "language_info": {
   "codemirror_mode": {
    "name": "ipython",
    "version": 3
   },
   "file_extension": ".py",
   "mimetype": "text/x-python",
   "name": "python",
   "nbconvert_exporter": "python",
   "pygments_lexer": "ipython3",
   "version": "3.9.13"
  }
 },
 "nbformat": 4,
 "nbformat_minor": 1
}
